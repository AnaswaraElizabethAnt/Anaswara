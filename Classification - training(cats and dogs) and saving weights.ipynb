{
 "cells": [
  {
   "cell_type": "markdown",
   "metadata": {},
   "source": [
    "## Classification demo including training"
   ]
  },
  {
   "cell_type": "code",
   "execution_count": 1,
   "metadata": {},
   "outputs": [],
   "source": [
    "#!pip install keras"
   ]
  },
  {
   "cell_type": "code",
   "execution_count": 2,
   "metadata": {},
   "outputs": [
    {
     "name": "stderr",
     "output_type": "stream",
     "text": [
      "C:\\Users\\Administrator\\Anaconda3\\lib\\site-packages\\h5py\\__init__.py:36: FutureWarning: Conversion of the second argument of issubdtype from `float` to `np.floating` is deprecated. In future, it will be treated as `np.float64 == np.dtype(float).type`.\n",
      "  from ._conv import register_converters as _register_converters\n",
      "Using TensorFlow backend.\n"
     ]
    }
   ],
   "source": [
    "##Import libraries\n",
    "from keras.models import Sequential\n",
    "from keras.layers import Convolution2D\n",
    "from keras.layers import MaxPooling2D\n",
    "from keras.layers import Flatten\n",
    "from keras.layers import Dense"
   ]
  },
  {
   "cell_type": "code",
   "execution_count": 3,
   "metadata": {},
   "outputs": [],
   "source": [
    "## Initialising the CNN\n",
    "classifier = Sequential()"
   ]
  },
  {
   "cell_type": "code",
   "execution_count": 4,
   "metadata": {},
   "outputs": [
    {
     "name": "stderr",
     "output_type": "stream",
     "text": [
      "C:\\Users\\Administrator\\Anaconda3\\lib\\site-packages\\ipykernel_launcher.py:2: UserWarning: Update your `Conv2D` call to the Keras 2 API: `Conv2D(64, (3, 3), input_shape=(64, 64, 3..., activation=\"relu\")`\n",
      "  \n",
      "C:\\Users\\Administrator\\Anaconda3\\lib\\site-packages\\ipykernel_launcher.py:7: UserWarning: Update your `Conv2D` call to the Keras 2 API: `Conv2D(64, (3, 3), activation=\"relu\")`\n",
      "  import sys\n",
      "C:\\Users\\Administrator\\Anaconda3\\lib\\site-packages\\ipykernel_launcher.py:11: UserWarning: Update your `Conv2D` call to the Keras 2 API: `Conv2D(64, (3, 3), activation=\"relu\")`\n",
      "  # This is added back by InteractiveShellApp.init_path()\n"
     ]
    }
   ],
   "source": [
    "## Convolution(64 feature detector of dimension 3 by 3), input shape 3 layer for color image)\n",
    "classifier.add(Convolution2D(64,3,3,input_shape = (64,64,3), activation = 'relu'))\n",
    "## MaxPooling\n",
    "classifier.add(MaxPooling2D(pool_size = (2,2)))\n",
    "\n",
    "## Add another layer\n",
    "classifier.add(Convolution2D(64,3,3, activation = 'relu'))\n",
    "classifier.add(MaxPooling2D(pool_size = (2,2)))\n",
    "\n",
    "## Add another layer\n",
    "classifier.add(Convolution2D(64,3,3, activation = 'relu'))\n",
    "classifier.add(MaxPooling2D(pool_size = (2,2)))\n",
    "\n"
   ]
  },
  {
   "cell_type": "code",
   "execution_count": 5,
   "metadata": {},
   "outputs": [],
   "source": [
    "## Flattening\n",
    "classifier.add(Flatten())"
   ]
  },
  {
   "cell_type": "code",
   "execution_count": 6,
   "metadata": {},
   "outputs": [
    {
     "name": "stderr",
     "output_type": "stream",
     "text": [
      "C:\\Users\\Administrator\\Anaconda3\\lib\\site-packages\\ipykernel_launcher.py:2: UserWarning: Update your `Dense` call to the Keras 2 API: `Dense(activation=\"relu\", units=128)`\n",
      "  \n",
      "C:\\Users\\Administrator\\Anaconda3\\lib\\site-packages\\ipykernel_launcher.py:3: UserWarning: Update your `Dense` call to the Keras 2 API: `Dense(activation=\"sigmoid\", units=1)`\n",
      "  This is separate from the ipykernel package so we can avoid doing imports until\n"
     ]
    }
   ],
   "source": [
    "## Fully connected ANN, Hidden ANN and output layer\n",
    "classifier.add(Dense(output_dim = 128, activation = 'relu'))\n",
    "classifier.add(Dense(output_dim = 1, activation = 'sigmoid'))\n",
    "\n",
    "fname = 'keras-cnn20.hdf5'\n",
    "model.loadweights(fname)"
   ]
  },
  {
   "cell_type": "code",
   "execution_count": 7,
   "metadata": {},
   "outputs": [],
   "source": [
    "## Compliling\n",
    "classifier.compile(optimizer = 'adam', loss = 'binary_crossentropy', metrics = ['accuracy'])"
   ]
  },
  {
   "cell_type": "code",
   "execution_count": 8,
   "metadata": {},
   "outputs": [],
   "source": [
    "## data importing and transforming and scaling\n",
    "from keras.preprocessing.image import ImageDataGenerator\n",
    "train_datagen = ImageDataGenerator(\n",
    "        rescale=1./255,\n",
    "        shear_range=0.2,\n",
    "        zoom_range=0.2,\n",
    "        horizontal_flip=True)"
   ]
  },
  {
   "cell_type": "code",
   "execution_count": 9,
   "metadata": {},
   "outputs": [],
   "source": [
    "## Scaling test data\n",
    "test_datagen = ImageDataGenerator(rescale=1./255)"
   ]
  },
  {
   "cell_type": "code",
   "execution_count": 10,
   "metadata": {},
   "outputs": [
    {
     "name": "stdout",
     "output_type": "stream",
     "text": [
      "Found 98 images belonging to 2 classes.\n"
     ]
    }
   ],
   "source": [
    "## Importing training data\n",
    "train_set = train_datagen.flow_from_directory('dataset\\\\training_set',\n",
    "                                               target_size=(64, 64),\n",
    "                                               batch_size=6,\n",
    "                                               class_mode='binary')"
   ]
  },
  {
   "cell_type": "code",
   "execution_count": 11,
   "metadata": {},
   "outputs": [
    {
     "name": "stdout",
     "output_type": "stream",
     "text": [
      "{'cats': 0, 'dogs': 1}\n"
     ]
    }
   ],
   "source": [
    "#which is cat; which is dog? :::: labeling\n",
    "label_map = (train_set.class_indices)\n",
    "print(label_map)"
   ]
  },
  {
   "cell_type": "code",
   "execution_count": 12,
   "metadata": {},
   "outputs": [
    {
     "name": "stdout",
     "output_type": "stream",
     "text": [
      "Found 38 images belonging to 2 classes.\n"
     ]
    }
   ],
   "source": [
    "## Importing test data\n",
    "test_set = test_datagen.flow_from_directory('dataset\\\\test_set',\n",
    "                                            target_size=(64, 64),\n",
    "                                            batch_size=6,\n",
    "                                            class_mode='binary')"
   ]
  },
  {
   "cell_type": "code",
   "execution_count": 21,
   "metadata": {},
   "outputs": [
    {
     "name": "stdout",
     "output_type": "stream",
     "text": [
      "Epoch 1/20\n",
      "98/98 [==============================] - 13s 132ms/step - loss: 0.1333 - acc: 0.9490 - val_loss: 2.3961 - val_acc: 0.6058\n",
      "Epoch 2/20\n",
      "98/98 [==============================] - 13s 132ms/step - loss: 0.0228 - acc: 0.9932 - val_loss: 2.5343 - val_acc: 0.5882\n",
      "Epoch 3/20\n",
      "98/98 [==============================] - 13s 131ms/step - loss: 0.0105 - acc: 0.9983 - val_loss: 3.1012 - val_acc: 0.5962\n",
      "Epoch 4/20\n",
      "98/98 [==============================] - 13s 132ms/step - loss: 0.1316 - acc: 0.9575 - val_loss: 2.4291 - val_acc: 0.5490\n",
      "Epoch 5/20\n",
      "98/98 [==============================] - 13s 131ms/step - loss: 0.0408 - acc: 0.9932 - val_loss: 3.3041 - val_acc: 0.5000\n",
      "Epoch 6/20\n",
      "98/98 [==============================] - 13s 136ms/step - loss: 0.0079 - acc: 1.0000 - val_loss: 4.1928 - val_acc: 0.5588\n",
      "Epoch 7/20\n",
      "98/98 [==============================] - 13s 134ms/step - loss: 0.0813 - acc: 0.9745 - val_loss: 2.0569 - val_acc: 0.6106\n",
      "Epoch 8/20\n",
      "98/98 [==============================] - 14s 139ms/step - loss: 0.1455 - acc: 0.9592 - val_loss: 2.9056 - val_acc: 0.5144\n",
      "Epoch 9/20\n",
      "98/98 [==============================] - 13s 133ms/step - loss: 0.0363 - acc: 0.9830 - val_loss: 3.6353 - val_acc: 0.4412\n",
      "Epoch 10/20\n",
      "98/98 [==============================] - 13s 137ms/step - loss: 0.0247 - acc: 0.9932 - val_loss: 3.5678 - val_acc: 0.5337\n",
      "Epoch 11/20\n",
      "98/98 [==============================] - 13s 133ms/step - loss: 0.0415 - acc: 0.9881 - val_loss: 3.7982 - val_acc: 0.5049\n",
      "Epoch 12/20\n",
      "98/98 [==============================] - 13s 133ms/step - loss: 0.0057 - acc: 1.0000 - val_loss: 3.6374 - val_acc: 0.5048\n",
      "Epoch 13/20\n",
      "98/98 [==============================] - 13s 133ms/step - loss: 0.0054 - acc: 1.0000 - val_loss: 4.1368 - val_acc: 0.5196\n",
      "Epoch 14/20\n",
      "98/98 [==============================] - 13s 133ms/step - loss: 7.8904e-04 - acc: 1.0000 - val_loss: 4.4372 - val_acc: 0.5144\n",
      "Epoch 15/20\n",
      "98/98 [==============================] - 13s 136ms/step - loss: 4.3996e-04 - acc: 1.0000 - val_loss: 4.3195 - val_acc: 0.5385\n",
      "Epoch 16/20\n",
      "98/98 [==============================] - 13s 133ms/step - loss: 2.3983e-04 - acc: 1.0000 - val_loss: 4.3179 - val_acc: 0.5294\n",
      "Epoch 17/20\n",
      "98/98 [==============================] - 13s 133ms/step - loss: 8.0037e-04 - acc: 1.0000 - val_loss: 4.4074 - val_acc: 0.5337\n",
      "Epoch 18/20\n",
      "98/98 [==============================] - 13s 132ms/step - loss: 4.2618e-04 - acc: 1.0000 - val_loss: 4.6267 - val_acc: 0.5098\n",
      "Epoch 19/20\n",
      "98/98 [==============================] - 13s 134ms/step - loss: 0.0796 - acc: 0.9796 - val_loss: 4.1106 - val_acc: 0.5144\n",
      "Epoch 20/20\n",
      "98/98 [==============================] - 13s 133ms/step - loss: 0.0644 - acc: 0.9847 - val_loss: 3.2687 - val_acc: 0.6225\n"
     ]
    },
    {
     "data": {
      "text/plain": [
       "<keras.callbacks.History at 0x2a50a733b38>"
      ]
     },
     "execution_count": 21,
     "metadata": {},
     "output_type": "execute_result"
    }
   ],
   "source": [
    "## fitting model to images\n",
    "classifier.fit_generator(\n",
    "        train_set,\n",
    "        steps_per_epoch=98,\n",
    "        epochs=20,\n",
    "        validation_data=test_set,\n",
    "        validation_steps=38)"
   ]
  },
  {
   "cell_type": "code",
   "execution_count": 23,
   "metadata": {},
   "outputs": [],
   "source": [
    "## prediction of single new data\n",
    "import numpy as np\n",
    "from keras.preprocessing import image\n",
    "test_image= image.load_img('dataset\\\\single_prediction\\\\cat.jpg'\n",
    "                           ,target_size =(64,64))\n"
   ]
  },
  {
   "cell_type": "code",
   "execution_count": 24,
   "metadata": {},
   "outputs": [
    {
     "data": {
      "image/png": "[encoded data removed]",
      "text/plain": [
       "<PIL.Image.Image image mode=RGB size=64x64 at 0x2A50C4C6908>"
      ]
     },
     "execution_count": 24,
     "metadata": {},
     "output_type": "execute_result"
    }
   ],
   "source": [
    "test_image"
   ]
  },
  {
   "cell_type": "code",
   "execution_count": 25,
   "metadata": {},
   "outputs": [],
   "source": [
    "## Convert image to array\n",
    "test_image = image.img_to_array(test_image)"
   ]
  },
  {
   "cell_type": "code",
   "execution_count": 26,
   "metadata": {},
   "outputs": [],
   "source": [
    "## For single prediction change the dimension using axis. To remove problem of batch\n",
    "test_image = np.expand_dims(test_image,axis = 0)\n",
    "result = classifier.predict(test_image)"
   ]
  },
  {
   "cell_type": "code",
   "execution_count": 27,
   "metadata": {},
   "outputs": [],
   "source": [
    "## Class of dog and cat\n",
    "\n",
    "if result[0][0] == 1:\n",
    "    prediction = 'dog'\n",
    "else:\n",
    "    prediction = 'cat'\n",
    "    "
   ]
  },
  {
   "cell_type": "code",
   "execution_count": 28,
   "metadata": {},
   "outputs": [
    {
     "data": {
      "text/plain": [
       "'cat'"
      ]
     },
     "execution_count": 28,
     "metadata": {},
     "output_type": "execute_result"
    }
   ],
   "source": [
    "prediction"
   ]
  },
  {
   "cell_type": "code",
   "execution_count": null,
   "metadata": {},
   "outputs": [],
   "source": [
    "## Saving weights"
   ]
  },
  {
   "cell_type": "code",
   "execution_count": 33,
   "metadata": {},
   "outputs": [],
   "source": [
    "model_json = classifier.to_json()\n",
    "with open(\"model20.json\",\"w\") as json_file:\n",
    "    json_file.write(model_json)\n",
    "classifier.save_weights(\"model20.h5\")"
   ]
  }
 ],
 "metadata": {
  "kernelspec": {
   "display_name": "Python 3",
   "language": "python",
   "name": "python3"
  },
  "language_info": {
   "codemirror_mode": {
    "name": "ipython",
    "version": 3
   },
   "file_extension": ".py",
   "mimetype": "text/x-python",
   "name": "python",
   "nbconvert_exporter": "python",
   "pygments_lexer": "ipython3",
   "version": "3.6.4"
  }
 },
 "nbformat": 4,
 "nbformat_minor": 2
}
